{
 "cells": [
  {
   "cell_type": "code",
   "execution_count": 1,
   "id": "30a54f2c",
   "metadata": {
    "_cell_guid": "b1076dfc-b9ad-4769-8c92-a6c4dae69d19",
    "_uuid": "8f2839f25d086af736a60e9eeb907d3b93b6e0e5",
    "execution": {
     "iopub.execute_input": "2022-08-27T11:46:17.273870Z",
     "iopub.status.busy": "2022-08-27T11:46:17.272672Z",
     "iopub.status.idle": "2022-08-27T11:46:18.679574Z",
     "shell.execute_reply": "2022-08-27T11:46:18.678375Z"
    },
    "papermill": {
     "duration": 1.417891,
     "end_time": "2022-08-27T11:46:18.682656",
     "exception": false,
     "start_time": "2022-08-27T11:46:17.264765",
     "status": "completed"
    },
    "tags": []
   },
   "outputs": [],
   "source": [
    "\n",
    "\n",
    "import numpy as np \n",
    "import pandas as pd \n",
    "from sklearn.ensemble  import RandomForestClassifier"
   ]
  },
  {
   "cell_type": "code",
   "execution_count": 2,
   "id": "38a98d21",
   "metadata": {
    "execution": {
     "iopub.execute_input": "2022-08-27T11:46:18.695022Z",
     "iopub.status.busy": "2022-08-27T11:46:18.694379Z",
     "iopub.status.idle": "2022-08-27T11:46:18.717532Z",
     "shell.execute_reply": "2022-08-27T11:46:18.716360Z"
    },
    "papermill": {
     "duration": 0.032679,
     "end_time": "2022-08-27T11:46:18.720562",
     "exception": false,
     "start_time": "2022-08-27T11:46:18.687883",
     "status": "completed"
    },
    "tags": []
   },
   "outputs": [],
   "source": [
    "train_data = pd.read_csv(\"/kaggle/input/titanic/train.csv\")"
   ]
  },
  {
   "cell_type": "code",
   "execution_count": 3,
   "id": "43805133",
   "metadata": {
    "execution": {
     "iopub.execute_input": "2022-08-27T11:46:18.732090Z",
     "iopub.status.busy": "2022-08-27T11:46:18.731684Z",
     "iopub.status.idle": "2022-08-27T11:46:18.757498Z",
     "shell.execute_reply": "2022-08-27T11:46:18.756347Z"
    },
    "papermill": {
     "duration": 0.03469,
     "end_time": "2022-08-27T11:46:18.760159",
     "exception": false,
     "start_time": "2022-08-27T11:46:18.725469",
     "status": "completed"
    },
    "tags": []
   },
   "outputs": [
    {
     "data": {
      "text/html": [
       "<div>\n",
       "<style scoped>\n",
       "    .dataframe tbody tr th:only-of-type {\n",
       "        vertical-align: middle;\n",
       "    }\n",
       "\n",
       "    .dataframe tbody tr th {\n",
       "        vertical-align: top;\n",
       "    }\n",
       "\n",
       "    .dataframe thead th {\n",
       "        text-align: right;\n",
       "    }\n",
       "</style>\n",
       "<table border=\"1\" class=\"dataframe\">\n",
       "  <thead>\n",
       "    <tr style=\"text-align: right;\">\n",
       "      <th></th>\n",
       "      <th>PassengerId</th>\n",
       "      <th>Survived</th>\n",
       "      <th>Pclass</th>\n",
       "      <th>Name</th>\n",
       "      <th>Sex</th>\n",
       "      <th>Age</th>\n",
       "      <th>SibSp</th>\n",
       "      <th>Parch</th>\n",
       "      <th>Ticket</th>\n",
       "      <th>Fare</th>\n",
       "      <th>Cabin</th>\n",
       "      <th>Embarked</th>\n",
       "    </tr>\n",
       "  </thead>\n",
       "  <tbody>\n",
       "    <tr>\n",
       "      <th>0</th>\n",
       "      <td>1</td>\n",
       "      <td>0</td>\n",
       "      <td>3</td>\n",
       "      <td>Braund, Mr. Owen Harris</td>\n",
       "      <td>male</td>\n",
       "      <td>22.0</td>\n",
       "      <td>1</td>\n",
       "      <td>0</td>\n",
       "      <td>A/5 21171</td>\n",
       "      <td>7.2500</td>\n",
       "      <td>NaN</td>\n",
       "      <td>S</td>\n",
       "    </tr>\n",
       "    <tr>\n",
       "      <th>1</th>\n",
       "      <td>2</td>\n",
       "      <td>1</td>\n",
       "      <td>1</td>\n",
       "      <td>Cumings, Mrs. John Bradley (Florence Briggs Th...</td>\n",
       "      <td>female</td>\n",
       "      <td>38.0</td>\n",
       "      <td>1</td>\n",
       "      <td>0</td>\n",
       "      <td>PC 17599</td>\n",
       "      <td>71.2833</td>\n",
       "      <td>C85</td>\n",
       "      <td>C</td>\n",
       "    </tr>\n",
       "    <tr>\n",
       "      <th>2</th>\n",
       "      <td>3</td>\n",
       "      <td>1</td>\n",
       "      <td>3</td>\n",
       "      <td>Heikkinen, Miss. Laina</td>\n",
       "      <td>female</td>\n",
       "      <td>26.0</td>\n",
       "      <td>0</td>\n",
       "      <td>0</td>\n",
       "      <td>STON/O2. 3101282</td>\n",
       "      <td>7.9250</td>\n",
       "      <td>NaN</td>\n",
       "      <td>S</td>\n",
       "    </tr>\n",
       "    <tr>\n",
       "      <th>3</th>\n",
       "      <td>4</td>\n",
       "      <td>1</td>\n",
       "      <td>1</td>\n",
       "      <td>Futrelle, Mrs. Jacques Heath (Lily May Peel)</td>\n",
       "      <td>female</td>\n",
       "      <td>35.0</td>\n",
       "      <td>1</td>\n",
       "      <td>0</td>\n",
       "      <td>113803</td>\n",
       "      <td>53.1000</td>\n",
       "      <td>C123</td>\n",
       "      <td>S</td>\n",
       "    </tr>\n",
       "    <tr>\n",
       "      <th>4</th>\n",
       "      <td>5</td>\n",
       "      <td>0</td>\n",
       "      <td>3</td>\n",
       "      <td>Allen, Mr. William Henry</td>\n",
       "      <td>male</td>\n",
       "      <td>35.0</td>\n",
       "      <td>0</td>\n",
       "      <td>0</td>\n",
       "      <td>373450</td>\n",
       "      <td>8.0500</td>\n",
       "      <td>NaN</td>\n",
       "      <td>S</td>\n",
       "    </tr>\n",
       "  </tbody>\n",
       "</table>\n",
       "</div>"
      ],
      "text/plain": [
       "   PassengerId  Survived  Pclass  \\\n",
       "0            1         0       3   \n",
       "1            2         1       1   \n",
       "2            3         1       3   \n",
       "3            4         1       1   \n",
       "4            5         0       3   \n",
       "\n",
       "                                                Name     Sex   Age  SibSp  \\\n",
       "0                            Braund, Mr. Owen Harris    male  22.0      1   \n",
       "1  Cumings, Mrs. John Bradley (Florence Briggs Th...  female  38.0      1   \n",
       "2                             Heikkinen, Miss. Laina  female  26.0      0   \n",
       "3       Futrelle, Mrs. Jacques Heath (Lily May Peel)  female  35.0      1   \n",
       "4                           Allen, Mr. William Henry    male  35.0      0   \n",
       "\n",
       "   Parch            Ticket     Fare Cabin Embarked  \n",
       "0      0         A/5 21171   7.2500   NaN        S  \n",
       "1      0          PC 17599  71.2833   C85        C  \n",
       "2      0  STON/O2. 3101282   7.9250   NaN        S  \n",
       "3      0            113803  53.1000  C123        S  \n",
       "4      0            373450   8.0500   NaN        S  "
      ]
     },
     "execution_count": 3,
     "metadata": {},
     "output_type": "execute_result"
    }
   ],
   "source": [
    "train_data.head()"
   ]
  },
  {
   "cell_type": "code",
   "execution_count": 4,
   "id": "843f75d4",
   "metadata": {
    "execution": {
     "iopub.execute_input": "2022-08-27T11:46:18.773394Z",
     "iopub.status.busy": "2022-08-27T11:46:18.771963Z",
     "iopub.status.idle": "2022-08-27T11:46:18.788558Z",
     "shell.execute_reply": "2022-08-27T11:46:18.787575Z"
    },
    "papermill": {
     "duration": 0.025715,
     "end_time": "2022-08-27T11:46:18.791114",
     "exception": false,
     "start_time": "2022-08-27T11:46:18.765399",
     "status": "completed"
    },
    "tags": []
   },
   "outputs": [],
   "source": [
    "test_data = pd.read_csv(\"/kaggle/input/titanic/test.csv\")"
   ]
  },
  {
   "cell_type": "code",
   "execution_count": 5,
   "id": "237f86a5",
   "metadata": {
    "execution": {
     "iopub.execute_input": "2022-08-27T11:46:18.803413Z",
     "iopub.status.busy": "2022-08-27T11:46:18.802739Z",
     "iopub.status.idle": "2022-08-27T11:46:18.819502Z",
     "shell.execute_reply": "2022-08-27T11:46:18.818326Z"
    },
    "papermill": {
     "duration": 0.025343,
     "end_time": "2022-08-27T11:46:18.821768",
     "exception": false,
     "start_time": "2022-08-27T11:46:18.796425",
     "status": "completed"
    },
    "tags": []
   },
   "outputs": [
    {
     "data": {
      "text/html": [
       "<div>\n",
       "<style scoped>\n",
       "    .dataframe tbody tr th:only-of-type {\n",
       "        vertical-align: middle;\n",
       "    }\n",
       "\n",
       "    .dataframe tbody tr th {\n",
       "        vertical-align: top;\n",
       "    }\n",
       "\n",
       "    .dataframe thead th {\n",
       "        text-align: right;\n",
       "    }\n",
       "</style>\n",
       "<table border=\"1\" class=\"dataframe\">\n",
       "  <thead>\n",
       "    <tr style=\"text-align: right;\">\n",
       "      <th></th>\n",
       "      <th>PassengerId</th>\n",
       "      <th>Pclass</th>\n",
       "      <th>Name</th>\n",
       "      <th>Sex</th>\n",
       "      <th>Age</th>\n",
       "      <th>SibSp</th>\n",
       "      <th>Parch</th>\n",
       "      <th>Ticket</th>\n",
       "      <th>Fare</th>\n",
       "      <th>Cabin</th>\n",
       "      <th>Embarked</th>\n",
       "    </tr>\n",
       "  </thead>\n",
       "  <tbody>\n",
       "    <tr>\n",
       "      <th>0</th>\n",
       "      <td>892</td>\n",
       "      <td>3</td>\n",
       "      <td>Kelly, Mr. James</td>\n",
       "      <td>male</td>\n",
       "      <td>34.5</td>\n",
       "      <td>0</td>\n",
       "      <td>0</td>\n",
       "      <td>330911</td>\n",
       "      <td>7.8292</td>\n",
       "      <td>NaN</td>\n",
       "      <td>Q</td>\n",
       "    </tr>\n",
       "    <tr>\n",
       "      <th>1</th>\n",
       "      <td>893</td>\n",
       "      <td>3</td>\n",
       "      <td>Wilkes, Mrs. James (Ellen Needs)</td>\n",
       "      <td>female</td>\n",
       "      <td>47.0</td>\n",
       "      <td>1</td>\n",
       "      <td>0</td>\n",
       "      <td>363272</td>\n",
       "      <td>7.0000</td>\n",
       "      <td>NaN</td>\n",
       "      <td>S</td>\n",
       "    </tr>\n",
       "    <tr>\n",
       "      <th>2</th>\n",
       "      <td>894</td>\n",
       "      <td>2</td>\n",
       "      <td>Myles, Mr. Thomas Francis</td>\n",
       "      <td>male</td>\n",
       "      <td>62.0</td>\n",
       "      <td>0</td>\n",
       "      <td>0</td>\n",
       "      <td>240276</td>\n",
       "      <td>9.6875</td>\n",
       "      <td>NaN</td>\n",
       "      <td>Q</td>\n",
       "    </tr>\n",
       "    <tr>\n",
       "      <th>3</th>\n",
       "      <td>895</td>\n",
       "      <td>3</td>\n",
       "      <td>Wirz, Mr. Albert</td>\n",
       "      <td>male</td>\n",
       "      <td>27.0</td>\n",
       "      <td>0</td>\n",
       "      <td>0</td>\n",
       "      <td>315154</td>\n",
       "      <td>8.6625</td>\n",
       "      <td>NaN</td>\n",
       "      <td>S</td>\n",
       "    </tr>\n",
       "    <tr>\n",
       "      <th>4</th>\n",
       "      <td>896</td>\n",
       "      <td>3</td>\n",
       "      <td>Hirvonen, Mrs. Alexander (Helga E Lindqvist)</td>\n",
       "      <td>female</td>\n",
       "      <td>22.0</td>\n",
       "      <td>1</td>\n",
       "      <td>1</td>\n",
       "      <td>3101298</td>\n",
       "      <td>12.2875</td>\n",
       "      <td>NaN</td>\n",
       "      <td>S</td>\n",
       "    </tr>\n",
       "  </tbody>\n",
       "</table>\n",
       "</div>"
      ],
      "text/plain": [
       "   PassengerId  Pclass                                          Name     Sex  \\\n",
       "0          892       3                              Kelly, Mr. James    male   \n",
       "1          893       3              Wilkes, Mrs. James (Ellen Needs)  female   \n",
       "2          894       2                     Myles, Mr. Thomas Francis    male   \n",
       "3          895       3                              Wirz, Mr. Albert    male   \n",
       "4          896       3  Hirvonen, Mrs. Alexander (Helga E Lindqvist)  female   \n",
       "\n",
       "    Age  SibSp  Parch   Ticket     Fare Cabin Embarked  \n",
       "0  34.5      0      0   330911   7.8292   NaN        Q  \n",
       "1  47.0      1      0   363272   7.0000   NaN        S  \n",
       "2  62.0      0      0   240276   9.6875   NaN        Q  \n",
       "3  27.0      0      0   315154   8.6625   NaN        S  \n",
       "4  22.0      1      1  3101298  12.2875   NaN        S  "
      ]
     },
     "execution_count": 5,
     "metadata": {},
     "output_type": "execute_result"
    }
   ],
   "source": [
    "test_data.head()"
   ]
  },
  {
   "cell_type": "code",
   "execution_count": 6,
   "id": "9ede8066",
   "metadata": {
    "execution": {
     "iopub.execute_input": "2022-08-27T11:46:18.833921Z",
     "iopub.status.busy": "2022-08-27T11:46:18.833530Z",
     "iopub.status.idle": "2022-08-27T11:46:18.846302Z",
     "shell.execute_reply": "2022-08-27T11:46:18.845362Z"
    },
    "papermill": {
     "duration": 0.021572,
     "end_time": "2022-08-27T11:46:18.848623",
     "exception": false,
     "start_time": "2022-08-27T11:46:18.827051",
     "status": "completed"
    },
    "tags": []
   },
   "outputs": [],
   "source": [
    "women = train_data.loc[train_data.Sex == 'female'][\"Survived\"]"
   ]
  },
  {
   "cell_type": "code",
   "execution_count": 7,
   "id": "7c125b86",
   "metadata": {
    "execution": {
     "iopub.execute_input": "2022-08-27T11:46:18.861718Z",
     "iopub.status.busy": "2022-08-27T11:46:18.861022Z",
     "iopub.status.idle": "2022-08-27T11:46:18.866242Z",
     "shell.execute_reply": "2022-08-27T11:46:18.865477Z"
    },
    "papermill": {
     "duration": 0.014389,
     "end_time": "2022-08-27T11:46:18.868492",
     "exception": false,
     "start_time": "2022-08-27T11:46:18.854103",
     "status": "completed"
    },
    "tags": []
   },
   "outputs": [],
   "source": [
    "rate_women = sum(women) / len(women)"
   ]
  },
  {
   "cell_type": "code",
   "execution_count": 8,
   "id": "ade6b340",
   "metadata": {
    "execution": {
     "iopub.execute_input": "2022-08-27T11:46:18.881136Z",
     "iopub.status.busy": "2022-08-27T11:46:18.880401Z",
     "iopub.status.idle": "2022-08-27T11:46:18.887649Z",
     "shell.execute_reply": "2022-08-27T11:46:18.886667Z"
    },
    "papermill": {
     "duration": 0.016016,
     "end_time": "2022-08-27T11:46:18.889858",
     "exception": false,
     "start_time": "2022-08-27T11:46:18.873842",
     "status": "completed"
    },
    "tags": []
   },
   "outputs": [],
   "source": [
    "men = train_data.loc[train_data.Sex == 'male'][\"Survived\"]"
   ]
  },
  {
   "cell_type": "code",
   "execution_count": 9,
   "id": "4b495c6d",
   "metadata": {
    "execution": {
     "iopub.execute_input": "2022-08-27T11:46:18.902446Z",
     "iopub.status.busy": "2022-08-27T11:46:18.901981Z",
     "iopub.status.idle": "2022-08-27T11:46:18.906587Z",
     "shell.execute_reply": "2022-08-27T11:46:18.905745Z"
    },
    "papermill": {
     "duration": 0.013434,
     "end_time": "2022-08-27T11:46:18.908621",
     "exception": false,
     "start_time": "2022-08-27T11:46:18.895187",
     "status": "completed"
    },
    "tags": []
   },
   "outputs": [],
   "source": [
    "rate_men = sum(men) / len(men)"
   ]
  },
  {
   "cell_type": "code",
   "execution_count": 10,
   "id": "a2a44c7d",
   "metadata": {
    "execution": {
     "iopub.execute_input": "2022-08-27T11:46:18.921587Z",
     "iopub.status.busy": "2022-08-27T11:46:18.920883Z",
     "iopub.status.idle": "2022-08-27T11:46:18.927182Z",
     "shell.execute_reply": "2022-08-27T11:46:18.925657Z"
    },
    "papermill": {
     "duration": 0.015411,
     "end_time": "2022-08-27T11:46:18.929651",
     "exception": false,
     "start_time": "2022-08-27T11:46:18.914240",
     "status": "completed"
    },
    "tags": []
   },
   "outputs": [
    {
     "name": "stdout",
     "output_type": "stream",
     "text": [
      "% of women who survived:  0.7420382165605095\n",
      "% of men who survived:  0.18890814558058924\n"
     ]
    }
   ],
   "source": [
    "print(\"% of women who survived: \", rate_women)\n",
    "print(\"% of men who survived: \", rate_men)"
   ]
  },
  {
   "cell_type": "code",
   "execution_count": 11,
   "id": "fdb2b1ec",
   "metadata": {
    "execution": {
     "iopub.execute_input": "2022-08-27T11:46:18.942724Z",
     "iopub.status.busy": "2022-08-27T11:46:18.941812Z",
     "iopub.status.idle": "2022-08-27T11:46:18.947424Z",
     "shell.execute_reply": "2022-08-27T11:46:18.946221Z"
    },
    "papermill": {
     "duration": 0.014586,
     "end_time": "2022-08-27T11:46:18.949783",
     "exception": false,
     "start_time": "2022-08-27T11:46:18.935197",
     "status": "completed"
    },
    "tags": []
   },
   "outputs": [],
   "source": [
    "target=train_data[\"Survived\"]"
   ]
  },
  {
   "cell_type": "code",
   "execution_count": 12,
   "id": "1feb0f21",
   "metadata": {
    "execution": {
     "iopub.execute_input": "2022-08-27T11:46:18.961903Z",
     "iopub.status.busy": "2022-08-27T11:46:18.961494Z",
     "iopub.status.idle": "2022-08-27T11:46:18.967890Z",
     "shell.execute_reply": "2022-08-27T11:46:18.966834Z"
    },
    "papermill": {
     "duration": 0.014997,
     "end_time": "2022-08-27T11:46:18.970091",
     "exception": false,
     "start_time": "2022-08-27T11:46:18.955094",
     "status": "completed"
    },
    "tags": []
   },
   "outputs": [],
   "source": [
    "features =[\"Pclass\",\"Sex\",\"SibSp\",\"Parch\"]"
   ]
  },
  {
   "cell_type": "code",
   "execution_count": 13,
   "id": "bb059abc",
   "metadata": {
    "execution": {
     "iopub.execute_input": "2022-08-27T11:46:18.983472Z",
     "iopub.status.busy": "2022-08-27T11:46:18.982146Z",
     "iopub.status.idle": "2022-08-27T11:46:19.000294Z",
     "shell.execute_reply": "2022-08-27T11:46:18.999129Z"
    },
    "papermill": {
     "duration": 0.027122,
     "end_time": "2022-08-27T11:46:19.002669",
     "exception": false,
     "start_time": "2022-08-27T11:46:18.975547",
     "status": "completed"
    },
    "tags": []
   },
   "outputs": [
    {
     "data": {
      "text/html": [
       "<div>\n",
       "<style scoped>\n",
       "    .dataframe tbody tr th:only-of-type {\n",
       "        vertical-align: middle;\n",
       "    }\n",
       "\n",
       "    .dataframe tbody tr th {\n",
       "        vertical-align: top;\n",
       "    }\n",
       "\n",
       "    .dataframe thead th {\n",
       "        text-align: right;\n",
       "    }\n",
       "</style>\n",
       "<table border=\"1\" class=\"dataframe\">\n",
       "  <thead>\n",
       "    <tr style=\"text-align: right;\">\n",
       "      <th></th>\n",
       "      <th>Pclass</th>\n",
       "      <th>Sex</th>\n",
       "      <th>SibSp</th>\n",
       "      <th>Parch</th>\n",
       "    </tr>\n",
       "  </thead>\n",
       "  <tbody>\n",
       "    <tr>\n",
       "      <th>0</th>\n",
       "      <td>3</td>\n",
       "      <td>male</td>\n",
       "      <td>1</td>\n",
       "      <td>0</td>\n",
       "    </tr>\n",
       "    <tr>\n",
       "      <th>1</th>\n",
       "      <td>1</td>\n",
       "      <td>female</td>\n",
       "      <td>1</td>\n",
       "      <td>0</td>\n",
       "    </tr>\n",
       "    <tr>\n",
       "      <th>2</th>\n",
       "      <td>3</td>\n",
       "      <td>female</td>\n",
       "      <td>0</td>\n",
       "      <td>0</td>\n",
       "    </tr>\n",
       "    <tr>\n",
       "      <th>3</th>\n",
       "      <td>1</td>\n",
       "      <td>female</td>\n",
       "      <td>1</td>\n",
       "      <td>0</td>\n",
       "    </tr>\n",
       "    <tr>\n",
       "      <th>4</th>\n",
       "      <td>3</td>\n",
       "      <td>male</td>\n",
       "      <td>0</td>\n",
       "      <td>0</td>\n",
       "    </tr>\n",
       "    <tr>\n",
       "      <th>...</th>\n",
       "      <td>...</td>\n",
       "      <td>...</td>\n",
       "      <td>...</td>\n",
       "      <td>...</td>\n",
       "    </tr>\n",
       "    <tr>\n",
       "      <th>886</th>\n",
       "      <td>2</td>\n",
       "      <td>male</td>\n",
       "      <td>0</td>\n",
       "      <td>0</td>\n",
       "    </tr>\n",
       "    <tr>\n",
       "      <th>887</th>\n",
       "      <td>1</td>\n",
       "      <td>female</td>\n",
       "      <td>0</td>\n",
       "      <td>0</td>\n",
       "    </tr>\n",
       "    <tr>\n",
       "      <th>888</th>\n",
       "      <td>3</td>\n",
       "      <td>female</td>\n",
       "      <td>1</td>\n",
       "      <td>2</td>\n",
       "    </tr>\n",
       "    <tr>\n",
       "      <th>889</th>\n",
       "      <td>1</td>\n",
       "      <td>male</td>\n",
       "      <td>0</td>\n",
       "      <td>0</td>\n",
       "    </tr>\n",
       "    <tr>\n",
       "      <th>890</th>\n",
       "      <td>3</td>\n",
       "      <td>male</td>\n",
       "      <td>0</td>\n",
       "      <td>0</td>\n",
       "    </tr>\n",
       "  </tbody>\n",
       "</table>\n",
       "<p>891 rows × 4 columns</p>\n",
       "</div>"
      ],
      "text/plain": [
       "     Pclass     Sex  SibSp  Parch\n",
       "0         3    male      1      0\n",
       "1         1  female      1      0\n",
       "2         3  female      0      0\n",
       "3         1  female      1      0\n",
       "4         3    male      0      0\n",
       "..      ...     ...    ...    ...\n",
       "886       2    male      0      0\n",
       "887       1  female      0      0\n",
       "888       3  female      1      2\n",
       "889       1    male      0      0\n",
       "890       3    male      0      0\n",
       "\n",
       "[891 rows x 4 columns]"
      ]
     },
     "execution_count": 13,
     "metadata": {},
     "output_type": "execute_result"
    }
   ],
   "source": [
    "train_data[features]"
   ]
  },
  {
   "cell_type": "code",
   "execution_count": 14,
   "id": "6ac1be9b",
   "metadata": {
    "execution": {
     "iopub.execute_input": "2022-08-27T11:46:19.016388Z",
     "iopub.status.busy": "2022-08-27T11:46:19.015144Z",
     "iopub.status.idle": "2022-08-27T11:46:19.033254Z",
     "shell.execute_reply": "2022-08-27T11:46:19.032333Z"
    },
    "papermill": {
     "duration": 0.027285,
     "end_time": "2022-08-27T11:46:19.035655",
     "exception": false,
     "start_time": "2022-08-27T11:46:19.008370",
     "status": "completed"
    },
    "tags": []
   },
   "outputs": [],
   "source": [
    "X =  pd.get_dummies(train_data[features])\n",
    "X_test = pd.get_dummies(test_data[features])"
   ]
  },
  {
   "cell_type": "code",
   "execution_count": 15,
   "id": "d99274e1",
   "metadata": {
    "execution": {
     "iopub.execute_input": "2022-08-27T11:46:19.048826Z",
     "iopub.status.busy": "2022-08-27T11:46:19.048133Z",
     "iopub.status.idle": "2022-08-27T11:46:19.225981Z",
     "shell.execute_reply": "2022-08-27T11:46:19.224853Z"
    },
    "papermill": {
     "duration": 0.187456,
     "end_time": "2022-08-27T11:46:19.228674",
     "exception": false,
     "start_time": "2022-08-27T11:46:19.041218",
     "status": "completed"
    },
    "tags": []
   },
   "outputs": [],
   "source": [
    "model = RandomForestClassifier(n_estimators=100, max_depth=5, random_state=1)\n",
    "model.fit(X,target)\n",
    "predictions = model.predict(X_test)"
   ]
  },
  {
   "cell_type": "code",
   "execution_count": 16,
   "id": "f531bd31",
   "metadata": {
    "execution": {
     "iopub.execute_input": "2022-08-27T11:46:19.241904Z",
     "iopub.status.busy": "2022-08-27T11:46:19.241207Z",
     "iopub.status.idle": "2022-08-27T11:46:19.251005Z",
     "shell.execute_reply": "2022-08-27T11:46:19.249885Z"
    },
    "papermill": {
     "duration": 0.01916,
     "end_time": "2022-08-27T11:46:19.253478",
     "exception": false,
     "start_time": "2022-08-27T11:46:19.234318",
     "status": "completed"
    },
    "tags": []
   },
   "outputs": [],
   "source": [
    "output = pd.DataFrame({'PassengerId': test_data.PassengerId, 'Survived':predictions})\n",
    "output.to_csv('my_submission.csv', index=False)"
   ]
  },
  {
   "cell_type": "code",
   "execution_count": 17,
   "id": "ad97aeaf",
   "metadata": {
    "execution": {
     "iopub.execute_input": "2022-08-27T11:46:19.266425Z",
     "iopub.status.busy": "2022-08-27T11:46:19.265957Z",
     "iopub.status.idle": "2022-08-27T11:46:19.276362Z",
     "shell.execute_reply": "2022-08-27T11:46:19.275288Z"
    },
    "papermill": {
     "duration": 0.019532,
     "end_time": "2022-08-27T11:46:19.278622",
     "exception": false,
     "start_time": "2022-08-27T11:46:19.259090",
     "status": "completed"
    },
    "tags": []
   },
   "outputs": [
    {
     "data": {
      "text/html": [
       "<div>\n",
       "<style scoped>\n",
       "    .dataframe tbody tr th:only-of-type {\n",
       "        vertical-align: middle;\n",
       "    }\n",
       "\n",
       "    .dataframe tbody tr th {\n",
       "        vertical-align: top;\n",
       "    }\n",
       "\n",
       "    .dataframe thead th {\n",
       "        text-align: right;\n",
       "    }\n",
       "</style>\n",
       "<table border=\"1\" class=\"dataframe\">\n",
       "  <thead>\n",
       "    <tr style=\"text-align: right;\">\n",
       "      <th></th>\n",
       "      <th>PassengerId</th>\n",
       "      <th>Survived</th>\n",
       "    </tr>\n",
       "  </thead>\n",
       "  <tbody>\n",
       "    <tr>\n",
       "      <th>0</th>\n",
       "      <td>892</td>\n",
       "      <td>0</td>\n",
       "    </tr>\n",
       "    <tr>\n",
       "      <th>1</th>\n",
       "      <td>893</td>\n",
       "      <td>1</td>\n",
       "    </tr>\n",
       "    <tr>\n",
       "      <th>2</th>\n",
       "      <td>894</td>\n",
       "      <td>0</td>\n",
       "    </tr>\n",
       "    <tr>\n",
       "      <th>3</th>\n",
       "      <td>895</td>\n",
       "      <td>0</td>\n",
       "    </tr>\n",
       "    <tr>\n",
       "      <th>4</th>\n",
       "      <td>896</td>\n",
       "      <td>1</td>\n",
       "    </tr>\n",
       "  </tbody>\n",
       "</table>\n",
       "</div>"
      ],
      "text/plain": [
       "   PassengerId  Survived\n",
       "0          892         0\n",
       "1          893         1\n",
       "2          894         0\n",
       "3          895         0\n",
       "4          896         1"
      ]
     },
     "execution_count": 17,
     "metadata": {},
     "output_type": "execute_result"
    }
   ],
   "source": [
    "output.head()"
   ]
  }
 ],
 "metadata": {
  "kernelspec": {
   "display_name": "Python 3",
   "language": "python",
   "name": "python3"
  },
  "language_info": {
   "codemirror_mode": {
    "name": "ipython",
    "version": 3
   },
   "file_extension": ".py",
   "mimetype": "text/x-python",
   "name": "python",
   "nbconvert_exporter": "python",
   "pygments_lexer": "ipython3",
   "version": "3.7.12"
  },
  "papermill": {
   "default_parameters": {},
   "duration": 14.183545,
   "end_time": "2022-08-27T11:46:22.149388",
   "environment_variables": {},
   "exception": null,
   "input_path": "__notebook__.ipynb",
   "output_path": "__notebook__.ipynb",
   "parameters": {},
   "start_time": "2022-08-27T11:46:07.965843",
   "version": "2.3.4"
  }
 },
 "nbformat": 4,
 "nbformat_minor": 5
}
